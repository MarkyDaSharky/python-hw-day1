{
 "cells": [
  {
   "cell_type": "markdown",
   "metadata": {},
   "source": [
    "# Week 2 - Monday Lesson (variable assignment, loops, lists)"
   ]
  },
  {
   "cell_type": "markdown",
   "metadata": {},
   "source": [
    "## Tasks Today:\n",
    "\n",
    "1) Int & Float assignments <br>\n",
    " &nbsp;&nbsp;&nbsp;&nbsp; a) Assigning int <br>\n",
    " &nbsp;&nbsp;&nbsp;&nbsp; b) Assigning float <br>\n",
    " &nbsp;&nbsp;&nbsp;&nbsp; c) Performing Calculations on ints and floats <br>\n",
    " &nbsp;&nbsp;&nbsp;&nbsp;&nbsp;&nbsp;&nbsp;&nbsp; - Addition <br>\n",
    " &nbsp;&nbsp;&nbsp;&nbsp;&nbsp;&nbsp;&nbsp;&nbsp; - Subtraction <br>\n",
    " &nbsp;&nbsp;&nbsp;&nbsp;&nbsp;&nbsp;&nbsp;&nbsp; - Multiplication <br>\n",
    " &nbsp;&nbsp;&nbsp;&nbsp;&nbsp;&nbsp;&nbsp;&nbsp; - Division <br>\n",
    " &nbsp;&nbsp;&nbsp;&nbsp;&nbsp;&nbsp;&nbsp;&nbsp; - Floor Division <br>\n",
    " &nbsp;&nbsp;&nbsp;&nbsp;&nbsp;&nbsp;&nbsp;&nbsp; - Modulo <br>\n",
    " &nbsp;&nbsp;&nbsp;&nbsp;&nbsp;&nbsp;&nbsp;&nbsp; - Exponential <br>\n",
    "2) String Input-Output <br>\n",
    " &nbsp;&nbsp;&nbsp;&nbsp; a) String Assignment <br>\n",
    " &nbsp;&nbsp;&nbsp;&nbsp; b) print() <br>\n",
    " &nbsp;&nbsp;&nbsp;&nbsp; c) String Concatenation <br>\n",
    " &nbsp;&nbsp;&nbsp;&nbsp; d) Type Conversion <br>\n",
    " &nbsp;&nbsp;&nbsp;&nbsp; e) input() <br>\n",
    " &nbsp;&nbsp;&nbsp;&nbsp; f) format() <br>\n",
    " &nbsp;&nbsp;&nbsp;&nbsp; g) Old Way (python 2) <br>\n",
    "3) <b>In-Class Exercise #1</b> <br>\n",
    "4) If Statements <br>\n",
    " &nbsp;&nbsp;&nbsp;&nbsp; a) 'is' keyword <br>\n",
    " &nbsp;&nbsp;&nbsp;&nbsp; b) 'in' keyword <br>\n",
    " &nbsp;&nbsp;&nbsp;&nbsp; c) 'not in' keyword <br>\n",
    "5) <b>In-Class Exercise #2</b> <br>\n",
    "6) Elif Statements <br>\n",
    "7) Else Statements <br>\n",
    "8) <b>In-Class Exercise #3</b> <br>\n",
    "9) For Loops <br>\n",
    " &nbsp;&nbsp;&nbsp;&nbsp; a) Using 'in' keyword <br>\n",
    " &nbsp;&nbsp;&nbsp;&nbsp; b) Continue Statement <br>\n",
    " &nbsp;&nbsp;&nbsp;&nbsp; c) Break Statement <br>\n",
    " &nbsp;&nbsp;&nbsp;&nbsp; d) Pass Statement <br>\n",
    " &nbsp;&nbsp;&nbsp;&nbsp; e) Double For Loops <br>\n",
    "10) While Loops <br>\n",
    " &nbsp;&nbsp;&nbsp;&nbsp; a) Looping 'While True' <br>\n",
    " &nbsp;&nbsp;&nbsp;&nbsp; b) While and For Loops Used Together <br>\n",
    "11) Built-In Functions <br>\n",
    " &nbsp;&nbsp;&nbsp;&nbsp; a) range() <br>\n",
    " &nbsp;&nbsp;&nbsp;&nbsp; b) len() <br>\n",
    " &nbsp;&nbsp;&nbsp;&nbsp; c) help() <br>\n",
    " &nbsp;&nbsp;&nbsp;&nbsp; d) isinstance() <br>\n",
    " &nbsp;&nbsp;&nbsp;&nbsp; e) abs() <br>\n",
    "12) Try and Except <br>\n",
    "13) Lists <br>\n",
    " &nbsp;&nbsp;&nbsp;&nbsp; a) Declaring Lists <br>\n",
    " &nbsp;&nbsp;&nbsp;&nbsp; b) Indexing a List <br>\n",
    " &nbsp;&nbsp;&nbsp;&nbsp; c) .append() <br>\n",
    " &nbsp;&nbsp;&nbsp;&nbsp; d) .insert() <br>\n",
    " &nbsp;&nbsp;&nbsp;&nbsp; e) .pop() <br>\n",
    " &nbsp;&nbsp;&nbsp;&nbsp; f) .remove() <br>\n",
    " &nbsp;&nbsp;&nbsp;&nbsp; g) del() <br>\n",
    " &nbsp;&nbsp;&nbsp;&nbsp; h) Concatenating Two Lists <br>\n",
    " &nbsp;&nbsp;&nbsp;&nbsp; i) Lists Within Lists <br>\n",
    " &nbsp;&nbsp;&nbsp;&nbsp; j) Looping Through Lists <br>"
   ]
  },
  {
   "cell_type": "markdown",
   "metadata": {},
   "source": [
    "### Int & Float Assignments"
   ]
  },
  {
   "cell_type": "markdown",
   "metadata": {},
   "source": [
    "##### Assigning int"
   ]
  },
  {
   "cell_type": "code",
   "execution_count": 3,
   "metadata": {},
   "outputs": [
    {
     "name": "stdout",
     "output_type": "stream",
     "text": [
      "6\n",
      "<class 'int'>\n",
      "8\n",
      "<class 'int'>\n"
     ]
    }
   ],
   "source": [
    "# variable name = value\n",
    "\n",
    "number = 6\n",
    "\n",
    "print(number)\n",
    "print(type(number))\n",
    "\n",
    "new_num = 8\n",
    "print(new_num)\n",
    "print(type(new_num))"
   ]
  },
  {
   "cell_type": "markdown",
   "metadata": {},
   "source": [
    "##### Assinging float "
   ]
  },
  {
   "cell_type": "code",
   "execution_count": 6,
   "metadata": {},
   "outputs": [
    {
     "name": "stdout",
     "output_type": "stream",
     "text": [
      "4.7\n",
      "<class 'float'>\n",
      "6\n",
      "<class 'int'>\n"
     ]
    }
   ],
   "source": [
    "num_float = 4.7\n",
    "\n",
    "print(num_float)\n",
    "print(type(num_float))\n",
    "\n",
    "a_float = 6.\n",
    "print(a_float)\n",
    "print(type(a_float))"
   ]
  },
  {
   "cell_type": "markdown",
   "metadata": {},
   "source": [
    "#### Performing Calculations on ints and floats"
   ]
  },
  {
   "cell_type": "markdown",
   "metadata": {},
   "source": [
    "##### Addition"
   ]
  },
  {
   "cell_type": "code",
   "execution_count": 26,
   "metadata": {},
   "outputs": [
    {
     "name": "stdout",
     "output_type": "stream",
     "text": [
      "8.0\n",
      "<class 'float'>\n",
      "10.0\n"
     ]
    }
   ],
   "source": [
    "num1 = 3.\n",
    "num= 5.\n",
    "\n",
    "result = num1+num2\n",
    "print(result)\n",
    "print(type(result))\n",
    "\n",
    "# int + int = int\n",
    "# float + float = float\n",
    "# int + float = float\n",
    "\n",
    "\n",
    "\n",
    "# short hand version\n",
    "result += 2 # result = result(current version) + 2\n",
    "print(result)\n"
   ]
  },
  {
   "cell_type": "markdown",
   "metadata": {},
   "source": [
    "##### Subtraction"
   ]
  },
  {
   "cell_type": "code",
   "execution_count": 27,
   "metadata": {},
   "outputs": [
    {
     "name": "stdout",
     "output_type": "stream",
     "text": [
      "-2.0\n"
     ]
    }
   ],
   "source": [
    "diff = num1-num\n",
    "print(diff)"
   ]
  },
  {
   "cell_type": "markdown",
   "metadata": {},
   "source": [
    "##### Multiplication"
   ]
  },
  {
   "cell_type": "code",
   "execution_count": 24,
   "metadata": {},
   "outputs": [
    {
     "name": "stdout",
     "output_type": "stream",
     "text": [
      "15.0\n",
      "30.0\n"
     ]
    }
   ],
   "source": [
    "product = num1 * num\n",
    "print(product)\n",
    "\n",
    "#short hand version\n",
    "product *=2 #product = product * 2\n",
    "print(product)"
   ]
  },
  {
   "cell_type": "markdown",
   "metadata": {},
   "source": [
    "##### Division"
   ]
  },
  {
   "cell_type": "code",
   "execution_count": 29,
   "metadata": {},
   "outputs": [
    {
     "name": "stdout",
     "output_type": "stream",
     "text": [
      "1.6666666666666667\n",
      "0.8333333333333334\n"
     ]
    }
   ],
   "source": [
    "quotient = num/ num1\n",
    "print(quotient)\n",
    "\n",
    "#short hand version\n",
    "quotient /= 2 #quotient = quotient / 2\n",
    "print(quotient)"
   ]
  },
  {
   "cell_type": "markdown",
   "metadata": {},
   "source": [
    "##### Floor Division aka integer division"
   ]
  },
  {
   "cell_type": "code",
   "execution_count": 30,
   "metadata": {},
   "outputs": [
    {
     "name": "stdout",
     "output_type": "stream",
     "text": [
      "33\n",
      "16\n"
     ]
    }
   ],
   "source": [
    "result_floor = 100//3\n",
    "print (result_floor)\n",
    "\n",
    "#short hand version\n",
    "result_floor //= 2  #r floor = r floor // 2\n",
    "print(result_floor)\n"
   ]
  },
  {
   "cell_type": "markdown",
   "metadata": {},
   "source": [
    "##### Modulo"
   ]
  },
  {
   "cell_type": "code",
   "execution_count": 32,
   "metadata": {},
   "outputs": [
    {
     "name": "stdout",
     "output_type": "stream",
     "text": [
      "4\n",
      "1\n"
     ]
    }
   ],
   "source": [
    "#returns the remainder of the operation\n",
    "result_mod = 29 % 5\n",
    "print(result_mod)\n",
    "\n",
    "#shorthand ver.\n",
    "result_mod %= 3 #result_mod = result_mod % 3\n",
    "print(result_mod)"
   ]
  },
  {
   "cell_type": "markdown",
   "metadata": {},
   "source": [
    "##### Exponential"
   ]
  },
  {
   "cell_type": "code",
   "execution_count": 34,
   "metadata": {},
   "outputs": [
    {
     "name": "stdout",
     "output_type": "stream",
     "text": [
      "25\n",
      "625\n"
     ]
    }
   ],
   "source": [
    "square = 5 ** 2\n",
    "print(square)\n",
    "\n",
    "#short hand version\n",
    "square **= 2 #square = square ** 2\n",
    "print(square)\n"
   ]
  },
  {
   "cell_type": "markdown",
   "metadata": {},
   "source": [
    "### String Input-Output"
   ]
  },
  {
   "cell_type": "markdown",
   "metadata": {},
   "source": [
    "##### String Assignment"
   ]
  },
  {
   "cell_type": "code",
   "execution_count": 35,
   "metadata": {},
   "outputs": [
    {
     "name": "stdout",
     "output_type": "stream",
     "text": [
      "Brian\n",
      "<class 'str'>\n"
     ]
    }
   ],
   "source": [
    "name = \"Brian\"\n",
    "print(name)\n",
    "print(type(name))"
   ]
  },
  {
   "cell_type": "code",
   "execution_count": 36,
   "metadata": {},
   "outputs": [
    {
     "name": "stdout",
     "output_type": "stream",
     "text": [
      "Stanton\n",
      "<class 'str'>\n"
     ]
    }
   ],
   "source": [
    "last_name = 'Stanton'\n",
    "print(last_name)\n",
    "print(type(last_name))"
   ]
  },
  {
   "cell_type": "code",
   "execution_count": 37,
   "metadata": {},
   "outputs": [
    {
     "name": "stdout",
     "output_type": "stream",
     "text": [
      "Brian's House\n"
     ]
    }
   ],
   "source": [
    "possesive_string = 'Brian\\'s House'\n",
    "print(possesive_string)"
   ]
  },
  {
   "cell_type": "code",
   "execution_count": 39,
   "metadata": {},
   "outputs": [
    {
     "name": "stdout",
     "output_type": "stream",
     "text": [
      "123\n",
      "<class 'str'>\n"
     ]
    }
   ],
   "source": [
    "string_num= \"123\"\n",
    "print(string_num)\n",
    "print(type(string_num))\n"
   ]
  },
  {
   "cell_type": "markdown",
   "metadata": {},
   "source": [
    "##### print() <br>\n",
    "<p>Don't forget about end=' '</p>"
   ]
  },
  {
   "cell_type": "code",
   "execution_count": 46,
   "metadata": {},
   "outputs": [
    {
     "name": "stdout",
     "output_type": "stream",
     "text": [
      "First name Mark Last Name Torres\n"
     ]
    }
   ],
   "source": [
    "print(\"First name\", \"Mark\", \"Last Name\", \"Torres\")"
   ]
  },
  {
   "cell_type": "markdown",
   "metadata": {},
   "source": [
    "##### String Concatenation"
   ]
  },
  {
   "cell_type": "code",
   "execution_count": 48,
   "metadata": {},
   "outputs": [
    {
     "name": "stdout",
     "output_type": "stream",
     "text": [
      "Houston,Texas\n",
      "Houston,Texas, USA\n"
     ]
    }
   ],
   "source": [
    "city = 'Houston'\n",
    "state = 'Texas'\n",
    "\n",
    "hometown= city +','+ state\n",
    "\n",
    "print(hometown)\n",
    "\n",
    "#shorthand ver\n",
    "hometown += \", USA\" #htown = htown + \"usa\"\n",
    "print(hometown)"
   ]
  },
  {
   "cell_type": "markdown",
   "metadata": {},
   "source": [
    "##### Type Conversion"
   ]
  },
  {
   "cell_type": "code",
   "execution_count": 51,
   "metadata": {},
   "outputs": [
    {
     "ename": "TypeError",
     "evalue": "can only concatenate str (not \"int\") to str",
     "output_type": "error",
     "traceback": [
      "\u001b[1;31m---------------------------------------------------------------------------\u001b[0m",
      "\u001b[1;31mTypeError\u001b[0m                                 Traceback (most recent call last)",
      "\u001b[1;32m~\\AppData\\Local\\Temp/ipykernel_25720/1382833181.py\u001b[0m in \u001b[0;36m<module>\u001b[1;34m\u001b[0m\n\u001b[0;32m      1\u001b[0m \u001b[0msome_num\u001b[0m \u001b[1;33m=\u001b[0m \u001b[1;36m55\u001b[0m\u001b[1;33m\u001b[0m\u001b[1;33m\u001b[0m\u001b[0m\n\u001b[0;32m      2\u001b[0m \u001b[0mstring_num\u001b[0m\u001b[1;33m=\u001b[0m \u001b[1;34m\"74\"\u001b[0m\u001b[1;33m\u001b[0m\u001b[1;33m\u001b[0m\u001b[0m\n\u001b[1;32m----> 3\u001b[1;33m \u001b[0madd\u001b[0m \u001b[1;33m=\u001b[0m\u001b[0mstring_num\u001b[0m\u001b[1;33m+\u001b[0m \u001b[0msome_num\u001b[0m\u001b[1;33m\u001b[0m\u001b[1;33m\u001b[0m\u001b[0m\n\u001b[0m\u001b[0;32m      4\u001b[0m \u001b[0mprint\u001b[0m\u001b[1;33m(\u001b[0m\u001b[0madd\u001b[0m\u001b[1;33m)\u001b[0m\u001b[1;33m\u001b[0m\u001b[1;33m\u001b[0m\u001b[0m\n",
      "\u001b[1;31mTypeError\u001b[0m: can only concatenate str (not \"int\") to str"
     ]
    }
   ],
   "source": [
    "some_num = 55\n",
    "string_num= \"74\"\n",
    "add =string_num + some_num\n",
    "print(add)"
   ]
  },
  {
   "cell_type": "code",
   "execution_count": 55,
   "metadata": {},
   "outputs": [
    {
     "name": "stdout",
     "output_type": "stream",
     "text": [
      "<class 'str'>\n",
      "74\n",
      "<class 'int'>\n",
      "74.0\n",
      "<class 'float'>\n"
     ]
    }
   ],
   "source": [
    "print(type(string_num))\n",
    "changed_num= int(string_num)\n",
    "print(changed_num)\n",
    "print(type(changed_num))\n",
    "\n",
    "changed_again = float(changed_num)\n",
    "print(changed_again)\n",
    "print(type(changed_again))"
   ]
  },
  {
   "cell_type": "code",
   "execution_count": 59,
   "metadata": {},
   "outputs": [
    {
     "name": "stdout",
     "output_type": "stream",
     "text": [
      "123.9123\n"
     ]
    }
   ],
   "source": [
    "some_string = '123.9123'\n",
    "changed = float(some_string)\n",
    "print(changed)"
   ]
  },
  {
   "cell_type": "markdown",
   "metadata": {},
   "source": [
    "##### input()"
   ]
  },
  {
   "cell_type": "code",
   "execution_count": 64,
   "metadata": {},
   "outputs": [
    {
     "name": "stdout",
     "output_type": "stream",
     "text": [
      "What is your age? 55\n",
      "55\n",
      "<class 'str'>\n",
      "60\n"
     ]
    }
   ],
   "source": [
    "# input () is a built in function that will ask the end-user for input\n",
    "# INPUT WILL ALWAYS RETURN A STRING ALWAYS!!\n",
    "\n",
    "age = input(\"What is your age? \")\n",
    "print(age)\n",
    "print(type(age))\n",
    "\n",
    "add_age = int(age) + 5\n",
    "print(add_age)"
   ]
  },
  {
   "cell_type": "markdown",
   "metadata": {},
   "source": [
    "##### .format()"
   ]
  },
  {
   "cell_type": "code",
   "execution_count": 68,
   "metadata": {},
   "outputs": [
    {
     "name": "stdout",
     "output_type": "stream",
     "text": [
      "What is your name? Mark\n",
      "What is your age? 500\n",
      "Hello my name is Mark and I am 500 years old.\n"
     ]
    }
   ],
   "source": [
    "name = input(\"What is your name? \")\n",
    "age = input(\"What is your age? \")\n",
    "\n",
    "greeting = \"Hello my name is {} and I am {} years old.\".format(name, age)\n",
    "\n",
    "print(greeting)"
   ]
  },
  {
   "cell_type": "markdown",
   "metadata": {},
   "source": [
    "###### f-string"
   ]
  },
  {
   "cell_type": "code",
   "execution_count": 70,
   "metadata": {},
   "outputs": [
    {
     "name": "stdout",
     "output_type": "stream",
     "text": [
      "What is your name? Mark\n",
      "What is your age? 500\n",
      "Hello my name is Mark and I am 500 years old.\n"
     ]
    }
   ],
   "source": [
    "name = input(\"What is your name? \")\n",
    "age = input(\"What is your age? \")\n",
    "\n",
    "greeting = f\"Hello my name is {name} and I am {age} years old.\"\n",
    "\n",
    "print(greeting)"
   ]
  },
  {
   "cell_type": "code",
   "execution_count": 73,
   "metadata": {},
   "outputs": [
    {
     "name": "stdout",
     "output_type": "stream",
     "text": [
      "Hello my name is Mark and I am 500 years old.\n"
     ]
    }
   ],
   "source": [
    "concat_string = \"Hello my name is \" + name + \" and I am \" +age+ \" years old.\"\n",
    "print(concat_string)"
   ]
  },
  {
   "cell_type": "markdown",
   "metadata": {},
   "source": [
    "##### Old Way (python 2)"
   ]
  },
  {
   "cell_type": "code",
   "execution_count": 74,
   "metadata": {},
   "outputs": [
    {
     "ename": "TypeError",
     "evalue": "not all arguments converted during string formatting",
     "output_type": "error",
     "traceback": [
      "\u001b[1;31m---------------------------------------------------------------------------\u001b[0m",
      "\u001b[1;31mTypeError\u001b[0m                                 Traceback (most recent call last)",
      "\u001b[1;32m~\\AppData\\Local\\Temp/ipykernel_25720/190363227.py\u001b[0m in \u001b[0;36m<module>\u001b[1;34m\u001b[0m\n\u001b[1;32m----> 1\u001b[1;33m \u001b[0mold_greeting\u001b[0m \u001b[1;33m=\u001b[0m \u001b[1;34m\"Hello my name is #s and I am %s years old.\"\u001b[0m \u001b[1;33m%\u001b[0m\u001b[1;33m(\u001b[0m\u001b[0mname\u001b[0m\u001b[1;33m,\u001b[0m \u001b[0mage\u001b[0m\u001b[1;33m)\u001b[0m\u001b[1;33m\u001b[0m\u001b[1;33m\u001b[0m\u001b[0m\n\u001b[0m\u001b[0;32m      2\u001b[0m \u001b[0mprint\u001b[0m\u001b[1;33m(\u001b[0m\u001b[0mold_greeting\u001b[0m\u001b[1;33m)\u001b[0m\u001b[1;33m\u001b[0m\u001b[1;33m\u001b[0m\u001b[0m\n",
      "\u001b[1;31mTypeError\u001b[0m: not all arguments converted during string formatting"
     ]
    }
   ],
   "source": [
    "old_greeting = \"Hello my name is #s and I am %s years old.\" %(name, age)\n",
    "print(old_greeting)"
   ]
  },
  {
   "cell_type": "markdown",
   "metadata": {},
   "source": [
    "# In-Class Exercise 1 <br>\n",
    "<p>Create a format statement that asks for color, year, make, model and prints out the results</p>"
   ]
  },
  {
   "cell_type": "code",
   "execution_count": 79,
   "metadata": {},
   "outputs": [
    {
     "name": "stdout",
     "output_type": "stream",
     "text": [
      "What color is your car? black\n",
      "What model is your car? 500\n",
      "What make is your car? ford\n",
      "What year is your car? 2005\n",
      "My car is a black ford 500from the year 2005.\n"
     ]
    }
   ],
   "source": [
    "color = input(\"What color is your car? \")\n",
    "make = input(\"What make is your car? \")\n",
    "model = input(\"What model is your car? \")\n",
    "year = input(\"What year is your car? \")\n",
    "\n",
    "what_car = f\"My car is a {color} {make} {model} from the year {year}.\"\n",
    "\n",
    "print(what_car)\n"
   ]
  },
  {
   "cell_type": "markdown",
   "metadata": {},
   "source": [
    "### If Statements"
   ]
  },
  {
   "cell_type": "code",
   "execution_count": 83,
   "metadata": {},
   "outputs": [
    {
     "name": "stdout",
     "output_type": "stream",
     "text": [
      "the condition is true\n",
      "finished\n"
     ]
    }
   ],
   "source": [
    "# Available operators: Greater(>), Less(<),Equal(==)\n",
    "# Greater or Equal(>=), Less or Equal (<=) not equal (!=)\n",
    "\n",
    "# Truth Tree:\n",
    "# T && F = F\n",
    "# T && T = T\n",
    "# T || F = T\n",
    "# F || T = T\n",
    "# F || F = F\n",
    "\n",
    "num1 = 10\n",
    "num2 = 5\n",
    "\n",
    "if num1 < num2:\n",
    "    print(\"the condition is true\")\n",
    "print('finished')"
   ]
  },
  {
   "cell_type": "code",
   "execution_count": 84,
   "metadata": {},
   "outputs": [
    {
     "name": "stdout",
     "output_type": "stream",
     "text": [
      "At least one condition is true\n"
     ]
    }
   ],
   "source": [
    "# Truth Tree:\n",
    "# T && F = F\n",
    "# T && T = T\n",
    "# T || F = T\n",
    "# F || T = T\n",
    "# F || F = F\n",
    "\n",
    "\n",
    "if 5 > 3 and 15 < 5:\n",
    "    print(\"Both are true\")\n",
    "\n",
    "if 5 > 3 or 15 < 5:\n",
    "    print(\"At least one condition is true\")\n",
    "\n",
    "    "
   ]
  },
  {
   "cell_type": "markdown",
   "metadata": {},
   "source": [
    "##### 'is' keyword"
   ]
  },
  {
   "cell_type": "code",
   "execution_count": 86,
   "metadata": {
    "scrolled": true
   },
   "outputs": [
    {
     "name": "stdout",
     "output_type": "stream",
     "text": [
      "The values are the same\n",
      "these reference the same object\n"
     ]
    }
   ],
   "source": [
    "#use the 'is' keyword when checking for same/similar object not the same value\n",
    "\n",
    "list1 = [1,2,3]\n",
    "list2 = [1,2,3]\n",
    "list3 = list1\n",
    "\n",
    "\n",
    "if list1 == list2:\n",
    "    print('The values are the same')\n",
    "\n",
    "    \n",
    "if list1 is list2:\n",
    "    print('The reference is the same')\n",
    "\n",
    "\n",
    "if list1 is list3:\n",
    "    print('these reference the same object')\n"
   ]
  },
  {
   "cell_type": "code",
   "execution_count": 87,
   "metadata": {},
   "outputs": [
    {
     "name": "stdout",
     "output_type": "stream",
     "text": [
      "2259089076928\n",
      "2259089076736\n",
      "2259089076928\n"
     ]
    }
   ],
   "source": [
    "print(id(list1))\n",
    "print(id(list2))\n",
    "print(id(list3))"
   ]
  },
  {
   "cell_type": "markdown",
   "metadata": {},
   "source": [
    "##### 'in' keyword"
   ]
  },
  {
   "cell_type": "code",
   "execution_count": 91,
   "metadata": {},
   "outputs": [
    {
     "name": "stdout",
     "output_type": "stream",
     "text": [
      "The character who lost everything...\n"
     ]
    }
   ],
   "source": [
    "char_name = 'Max Payne'\n",
    "\n",
    "\n",
    "if 'y' in char_name:\n",
    "    print('The character who lost everything...')\n"
   ]
  },
  {
   "cell_type": "markdown",
   "metadata": {},
   "source": [
    "##### 'not in' keyword'"
   ]
  },
  {
   "cell_type": "code",
   "execution_count": 93,
   "metadata": {},
   "outputs": [
    {
     "name": "stdout",
     "output_type": "stream",
     "text": [
      "The letter z is not in this character name\n"
     ]
    }
   ],
   "source": [
    "if 'z' not in char_name:\n",
    "    print('The letter z is not in this character name')\n",
    "    "
   ]
  },
  {
   "cell_type": "markdown",
   "metadata": {},
   "source": [
    "# In-Class Exercise 2 <br>\n",
    "<p>Ask user for input, check to see if the letter 'p' is in the input</p>"
   ]
  },
  {
   "cell_type": "code",
   "execution_count": 99,
   "metadata": {},
   "outputs": [
    {
     "name": "stdout",
     "output_type": "stream",
     "text": [
      "What is the name of your street palmbeach\n",
      "their is a letter p in your street\n"
     ]
    }
   ],
   "source": [
    "street = input('What is the name of your street ')\n",
    "\n",
    "if 'p' in street:\n",
    "    print('their is a letter p in your street')\n",
    "else:\n",
    "    print('their is no letter p in your street')\n",
    "    \n",
    "\n",
    "\n",
    "    "
   ]
  },
  {
   "cell_type": "markdown",
   "metadata": {},
   "source": [
    "## Using 'and'/'or' with If Statements"
   ]
  },
  {
   "cell_type": "code",
   "execution_count": null,
   "metadata": {},
   "outputs": [],
   "source": [
    "#See above"
   ]
  },
  {
   "cell_type": "markdown",
   "metadata": {},
   "source": [
    "### Elif Statements"
   ]
  },
  {
   "cell_type": "code",
   "execution_count": 108,
   "metadata": {},
   "outputs": [
    {
     "name": "stdout",
     "output_type": "stream",
     "text": [
      "What is your age? 46\n",
      "Small discount!\n",
      "Thank you for your purchase, you owe $9.90\n"
     ]
    }
   ],
   "source": [
    "get_in_price = 10\n",
    "\n",
    "customer_age = int(input(\"What is your age? \"))\n",
    "\n",
    "if customer_age > 75:\n",
    "    print('you qualify for the senior discount of 25% off!')\n",
    "    get_in_price *= .75\n",
    "#elif will only run if the condition above evaluated to false\n",
    "elif customer_age >50:\n",
    "    print('You qualify for the junior discount of 10% off!')\n",
    "    get_in_price *= .90\n",
    "elif customer_age > 45:\n",
    "    print('Small discount!')\n",
    "    get_in_price *= .99\n",
    "#else only runs if all elifs above are false\n",
    "else:\n",
    "    get_in_price *= 1.1\n",
    "    \n",
    "    \n",
    "print(f\"Thank you for your purchase, you owe ${get_in_price:.2f}\")\n"
   ]
  },
  {
   "cell_type": "markdown",
   "metadata": {},
   "source": [
    "### Else Statements"
   ]
  },
  {
   "cell_type": "code",
   "execution_count": null,
   "metadata": {},
   "outputs": [],
   "source": [
    "# see above"
   ]
  },
  {
   "cell_type": "markdown",
   "metadata": {},
   "source": [
    "### For Loops"
   ]
  },
  {
   "cell_type": "code",
   "execution_count": 115,
   "metadata": {},
   "outputs": [
    {
     "name": "stdout",
     "output_type": "stream",
     "text": [
      "M\n",
      "a\n",
      "r\n",
      "k\n",
      " \n",
      "T\n",
      "o\n",
      "r\n",
      "r\n",
      "e\n",
      "s\n",
      "hello\n"
     ]
    }
   ],
   "source": [
    "name = 'Mark Torres'\n",
    "\n",
    "# name_iter = name.__iter__()\n",
    "# name_iter.__next__()\n",
    "\n",
    "\n",
    "# for 'iter_var' in 'iterable'\n",
    "for letter in name:\n",
    "    print(letter)\n",
    "\n",
    "print('hello')"
   ]
  },
  {
   "cell_type": "code",
   "execution_count": 120,
   "metadata": {},
   "outputs": [
    {
     "name": "stdout",
     "output_type": "stream",
     "text": [
      "0\n",
      "1\n",
      "2\n",
      "3\n",
      "4\n",
      "5\n",
      "6\n",
      "7\n",
      "8\n",
      "9\n",
      "10\n",
      "11\n",
      "12\n",
      "13\n",
      "14\n",
      "15\n",
      "16\n",
      "17\n",
      "18\n",
      "19\n"
     ]
    }
   ],
   "source": [
    "for x in range(20):\n",
    "    print(x)"
   ]
  },
  {
   "cell_type": "markdown",
   "metadata": {},
   "source": [
    "##### Using 'in' keyword"
   ]
  },
  {
   "cell_type": "code",
   "execution_count": null,
   "metadata": {},
   "outputs": [],
   "source": [
    "# see above"
   ]
  },
  {
   "cell_type": "markdown",
   "metadata": {},
   "source": [
    "##### Break Statement"
   ]
  },
  {
   "cell_type": "code",
   "execution_count": null,
   "metadata": {},
   "outputs": [],
   "source": [
    "# will break out of current loop"
   ]
  },
  {
   "cell_type": "code",
   "execution_count": 125,
   "metadata": {},
   "outputs": [
    {
     "name": "stdout",
     "output_type": "stream",
     "text": [
      "loop started\n",
      "0\n",
      "loop finished\n",
      "1\n",
      "loop finished\n",
      "2\n",
      "loop finished\n",
      "3\n",
      "loop finished\n",
      "4\n",
      "loop finished\n"
     ]
    }
   ],
   "source": [
    "print('loop started')\n",
    "\n",
    "for i in range(20):\n",
    "    if i ==5:\n",
    "        break\n",
    "    print(i)\n",
    "\n",
    "print('loop finished')"
   ]
  },
  {
   "cell_type": "markdown",
   "metadata": {},
   "source": [
    "##### Continue Statement"
   ]
  },
  {
   "cell_type": "code",
   "execution_count": null,
   "metadata": {},
   "outputs": [],
   "source": [
    "# will continue to next iteration"
   ]
  },
  {
   "cell_type": "code",
   "execution_count": 126,
   "metadata": {},
   "outputs": [
    {
     "name": "stdout",
     "output_type": "stream",
     "text": [
      "loop started\n",
      "0\n",
      "1\n",
      "4\n",
      "9\n",
      "16\n",
      "36\n",
      "49\n",
      "64\n",
      "81\n",
      "100\n",
      "121\n",
      "144\n",
      "169\n",
      "196\n",
      "225\n",
      "256\n",
      "289\n",
      "324\n",
      "361\n",
      "loop finished\n"
     ]
    }
   ],
   "source": [
    "print('loop started')\n",
    "\n",
    "for i in range(20):\n",
    "    if i ==5:\n",
    "        continue\n",
    "    i = i ** 2\n",
    "    print(i)\n",
    "\n",
    "print('loop finished')"
   ]
  },
  {
   "cell_type": "markdown",
   "metadata": {},
   "source": [
    "##### Pass Statement"
   ]
  },
  {
   "cell_type": "code",
   "execution_count": null,
   "metadata": {},
   "outputs": [],
   "source": [
    "# mostly used as a placeholder, and will continue on same iteration"
   ]
  },
  {
   "cell_type": "code",
   "execution_count": 127,
   "metadata": {},
   "outputs": [
    {
     "name": "stdout",
     "output_type": "stream",
     "text": [
      "loop started\n",
      "0\n",
      "1\n",
      "2\n",
      "3\n",
      "4\n",
      "5\n",
      "6\n",
      "7\n",
      "8\n",
      "9\n",
      "10\n",
      "11\n",
      "12\n",
      "13\n",
      "14\n",
      "15\n",
      "16\n",
      "17\n",
      "18\n",
      "19\n",
      "loop finished\n"
     ]
    }
   ],
   "source": [
    "print('loop started')\n",
    "\n",
    "for i in range(20):\n",
    "    if i ==5:\n",
    "        pass #TODO: come back and finish implementation\n",
    "    print(i)\n",
    "\n",
    "print('loop finished')"
   ]
  },
  {
   "cell_type": "markdown",
   "metadata": {},
   "source": [
    "##### Double For Loops AKA Nested loops"
   ]
  },
  {
   "cell_type": "code",
   "execution_count": 133,
   "metadata": {},
   "outputs": [
    {
     "name": "stdout",
     "output_type": "stream",
     "text": [
      "i=0 j=0\n",
      "i=0 j=1\n",
      "i=0 j=2\n",
      "i=1 j=0\n",
      "i=1 j=1\n",
      "i=1 j=2\n",
      "i=2 j=0\n",
      "i=2 j=1\n",
      "i=2 j=2\n"
     ]
    }
   ],
   "source": [
    "num = 3\n",
    "\n",
    "for i in range(num):\n",
    "    for j in range(num):\n",
    "        print(f'i={i}',f'j={j}')"
   ]
  },
  {
   "cell_type": "markdown",
   "metadata": {},
   "source": [
    "### While Loops"
   ]
  },
  {
   "cell_type": "code",
   "execution_count": 134,
   "metadata": {},
   "outputs": [
    {
     "name": "stdout",
     "output_type": "stream",
     "text": [
      "0\n",
      "1\n",
      "2\n",
      "3\n",
      "4\n",
      "5\n",
      "6\n",
      "7\n",
      "8\n",
      "9\n"
     ]
    }
   ],
   "source": [
    "#Syntax: while \"conditional statement\"\n",
    "\n",
    "num = 0 \n",
    "while num < 10:\n",
    "    print(num)\n",
    "    num+=1"
   ]
  },
  {
   "cell_type": "code",
   "execution_count": 135,
   "metadata": {},
   "outputs": [
    {
     "name": "stdout",
     "output_type": "stream",
     "text": [
      "Loop started\n",
      "What is your name? Mat\n",
      "That is an inferior name\n",
      "Please try again. What is your name? juan\n",
      "That is an inferior name\n",
      "Please try again. What is your name? Mark\n",
      "loop finished\n"
     ]
    }
   ],
   "source": [
    "print('Loop started')\n",
    "\n",
    "name = input('What is your name? ')\n",
    "while name != 'Mark':\n",
    "    print('That is an inferior name')\n",
    "    name = input('Please try again. What is your name? ')\n",
    "\n",
    "print('loop finished')\n",
    "\n"
   ]
  },
  {
   "cell_type": "markdown",
   "metadata": {},
   "source": [
    "##### Looping 'While True'"
   ]
  },
  {
   "cell_type": "code",
   "execution_count": 139,
   "metadata": {},
   "outputs": [
    {
     "name": "stdout",
     "output_type": "stream",
     "text": [
      "Would you like to quit? y/nn\n",
      "continue looping\n",
      "Would you like to quit? y/nn\n",
      "continue looping\n",
      "Would you like to quit? y/nn\n",
      "continue looping\n",
      "Would you like to quit? y/nn\n",
      "continue looping\n",
      "Would you like to quit? y/nn\n",
      "continue looping\n",
      "Would you like to quit? y/nn\n",
      "continue looping\n",
      "Would you like to quit? y/nn\n",
      "continue looping\n",
      "Would you like to quit? y/nn\n",
      "continue looping\n",
      "Would you like to quit? y/nn\n",
      "continue looping\n",
      "Would you like to quit? y/ny\n"
     ]
    }
   ],
   "source": [
    "while True:\n",
    "    ask = input('Would you like to quit? y/n ')\n",
    "    if ask.lower() == 'y':\n",
    "        break\n",
    "    print('continue looping')\n",
    "    "
   ]
  },
  {
   "cell_type": "markdown",
   "metadata": {},
   "source": [
    "##### While & For Loops Used Together"
   ]
  },
  {
   "cell_type": "code",
   "execution_count": 143,
   "metadata": {},
   "outputs": [
    {
     "name": "stdout",
     "output_type": "stream",
     "text": [
      "while loop iteration 0\n",
      "while loop iteration 1\n",
      "while loop iteration 2\n",
      "\n",
      "while loop iteration 1\n",
      "while loop iteration 1\n",
      "while loop iteration 2\n",
      "\n",
      "while loop iteration 2\n",
      "while loop iteration 1\n",
      "while loop iteration 2\n",
      "\n",
      "while loop iteration 3\n",
      "while loop iteration 1\n",
      "while loop iteration 2\n",
      "\n",
      "while loop iteration 4\n",
      "while loop iteration 1\n",
      "while loop iteration 2\n",
      "\n"
     ]
    }
   ],
   "source": [
    "num=0\n",
    "\n",
    "while num<5:\n",
    "    print(f'while loop iteration {num}')\n",
    "          \n",
    "    for i in range(2):\n",
    "          print(f'while loop iteration {i+1}')\n",
    "          \n",
    "    print()\n",
    "    num+=1"
   ]
  },
  {
   "cell_type": "markdown",
   "metadata": {},
   "source": [
    "### Built-In Functions"
   ]
  },
  {
   "cell_type": "markdown",
   "metadata": {},
   "source": [
    "##### range()"
   ]
  },
  {
   "cell_type": "code",
   "execution_count": 145,
   "metadata": {},
   "outputs": [
    {
     "name": "stdout",
     "output_type": "stream",
     "text": [
      "10\n",
      "11\n",
      "12\n",
      "13\n",
      "14\n",
      "15\n",
      "16\n",
      "17\n",
      "18\n",
      "19\n"
     ]
    }
   ],
   "source": [
    "#range(stop) - start will default to 0 and step will default to 1 = 0, 1, ....., stop-1\n",
    "#range(start, stop) - step will default to 1 == start, start+1, start+2, ..., stop-1\n",
    "#range(start, stop, step)\n",
    "#start is INCLUSIVE, stop is EXCLUSIVE\n",
    "\n",
    "for i in range(10,20, 2):\n",
    "    print(i)\n",
    "    "
   ]
  },
  {
   "cell_type": "code",
   "execution_count": 202,
   "metadata": {},
   "outputs": [
    {
     "name": "stdout",
     "output_type": "stream",
     "text": [
      "m\n",
      "a\n",
      "r\n",
      "k\n"
     ]
    }
   ],
   "source": [
    "name = 'mark'\n",
    "for i in range(4):\n",
    "    print(name[i])\n"
   ]
  },
  {
   "cell_type": "markdown",
   "metadata": {},
   "source": [
    "##### len()"
   ]
  },
  {
   "cell_type": "code",
   "execution_count": 150,
   "metadata": {},
   "outputs": [
    {
     "name": "stdout",
     "output_type": "stream",
     "text": [
      "6\n",
      "<class 'int'>\n"
     ]
    }
   ],
   "source": [
    "#checks the length of  an iterable object\n",
    "\n",
    "color = 'orange'\n",
    "length = len(color)\n",
    "print(length)\n",
    "print(type(length))"
   ]
  },
  {
   "cell_type": "code",
   "execution_count": 152,
   "metadata": {},
   "outputs": [
    {
     "name": "stdout",
     "output_type": "stream",
     "text": [
      "0 o\n",
      "1 r\n",
      "2 a\n",
      "3 n\n",
      "4 g\n",
      "5 e\n"
     ]
    }
   ],
   "source": [
    "for x in range(len(color)):\n",
    "    print(x, color[x])"
   ]
  },
  {
   "cell_type": "markdown",
   "metadata": {},
   "source": [
    "##### help()"
   ]
  },
  {
   "cell_type": "code",
   "execution_count": null,
   "metadata": {},
   "outputs": [],
   "source": [
    "#use this function to view more info about a python object (with a DOCSTRING)"
   ]
  },
  {
   "cell_type": "markdown",
   "metadata": {},
   "source": [
    "##### isinstance()"
   ]
  },
  {
   "cell_type": "code",
   "execution_count": 153,
   "metadata": {},
   "outputs": [
    {
     "name": "stdout",
     "output_type": "stream",
     "text": [
      "This is an int\n"
     ]
    }
   ],
   "source": [
    "# Check a variable  to find out what object find it belongs to\n",
    "#syntax: isintance(var, obj)\n",
    "\n",
    "country = 'France'\n",
    "\n",
    "isinstance(country, str)\n",
    "\n",
    "if isinstance(5, int):\n",
    "    print('This is an int')"
   ]
  },
  {
   "cell_type": "markdown",
   "metadata": {},
   "source": [
    "##### abs()"
   ]
  },
  {
   "cell_type": "code",
   "execution_count": 154,
   "metadata": {},
   "outputs": [
    {
     "data": {
      "text/plain": [
       "100"
      ]
     },
     "execution_count": 154,
     "metadata": {},
     "output_type": "execute_result"
    }
   ],
   "source": [
    "abs(-100)"
   ]
  },
  {
   "cell_type": "markdown",
   "metadata": {},
   "source": [
    "### Try and Except"
   ]
  },
  {
   "cell_type": "code",
   "execution_count": 160,
   "metadata": {},
   "outputs": [
    {
     "name": "stdout",
     "output_type": "stream",
     "text": [
      "Cannot divide by 0 division by zero\n",
      "more stuff happens here\n"
     ]
    }
   ],
   "source": [
    "#use whenever we encounter a bug so that the error doesnt cause the program to stop\n",
    "#use to log errors gracefully\n",
    "\n",
    "my_list= [1,6,3,6,'7',8,3,2,6]\n",
    "\n",
    "try:\n",
    "    total = 0\n",
    "    for num in my_list:\n",
    "        total /= 0\n",
    "        print(total)\n",
    "        \n",
    "except TypeError as err:\n",
    "    print('fatal error', err)\n",
    "except ZeroDivisionError as err:\n",
    "    print('Cannot divide by 0', err)\n",
    "except:\n",
    "    print('generic error')\n",
    "\n",
    "    \n",
    "    \n",
    "    \n",
    "print('more stuff happens here')\n"
   ]
  },
  {
   "cell_type": "markdown",
   "metadata": {},
   "source": [
    "### Lists"
   ]
  },
  {
   "cell_type": "markdown",
   "metadata": {},
   "source": [
    "##### Declaring Lists"
   ]
  },
  {
   "cell_type": "code",
   "execution_count": null,
   "metadata": {},
   "outputs": [],
   "source": []
  },
  {
   "cell_type": "markdown",
   "metadata": {},
   "source": [
    "##### Indexing a List"
   ]
  },
  {
   "cell_type": "code",
   "execution_count": null,
   "metadata": {},
   "outputs": [],
   "source": []
  },
  {
   "cell_type": "markdown",
   "metadata": {},
   "source": [
    "##### .append()"
   ]
  },
  {
   "cell_type": "code",
   "execution_count": null,
   "metadata": {},
   "outputs": [],
   "source": []
  },
  {
   "cell_type": "markdown",
   "metadata": {},
   "source": [
    "##### .insert()"
   ]
  },
  {
   "cell_type": "code",
   "execution_count": null,
   "metadata": {},
   "outputs": [],
   "source": []
  },
  {
   "cell_type": "markdown",
   "metadata": {},
   "source": [
    "##### .pop()"
   ]
  },
  {
   "cell_type": "code",
   "execution_count": null,
   "metadata": {},
   "outputs": [],
   "source": []
  },
  {
   "cell_type": "markdown",
   "metadata": {},
   "source": [
    "\n",
    "##### .remove()"
   ]
  },
  {
   "cell_type": "code",
   "execution_count": null,
   "metadata": {},
   "outputs": [],
   "source": []
  },
  {
   "cell_type": "markdown",
   "metadata": {},
   "source": [
    "##### del()"
   ]
  },
  {
   "cell_type": "code",
   "execution_count": null,
   "metadata": {},
   "outputs": [],
   "source": []
  },
  {
   "cell_type": "markdown",
   "metadata": {},
   "source": [
    "##### Concatenating Two Lists"
   ]
  },
  {
   "cell_type": "code",
   "execution_count": null,
   "metadata": {},
   "outputs": [],
   "source": []
  },
  {
   "cell_type": "markdown",
   "metadata": {},
   "source": [
    "##### Lists Within Lists"
   ]
  },
  {
   "cell_type": "code",
   "execution_count": null,
   "metadata": {},
   "outputs": [],
   "source": []
  },
  {
   "cell_type": "markdown",
   "metadata": {},
   "source": [
    "##### Looping Through Lists"
   ]
  },
  {
   "cell_type": "code",
   "execution_count": 190,
   "metadata": {},
   "outputs": [
    {
     "name": "stdout",
     "output_type": "stream",
     "text": [
      "loop started\n",
      "0\n",
      "8\n",
      "27\n",
      "64\n",
      "125\n",
      "216\n",
      "343\n",
      "512\n",
      "729\n",
      "1000\n",
      "loop finished\n"
     ]
    }
   ],
   "source": [
    "print('loop started')\n",
    "\n",
    "for i in range(30):\n",
    "    if i == 1:\n",
    "        continue\n",
    "    i = i ** 3\n",
    "    print(i)\n",
    "    if i == 1000:\n",
    "        break\n",
    "    \n",
    "\n",
    "print('loop finished')"
   ]
  },
  {
   "cell_type": "markdown",
   "metadata": {},
   "source": [
    "## Exercise #1 <br>\n",
    "<p>Cube Number Test... Print out all cubed numbers up to the total value 1000. Meaning that if the cubed number is over 1000 break the loop.</p>"
   ]
  },
  {
   "cell_type": "code",
   "execution_count": 245,
   "metadata": {},
   "outputs": [
    {
     "name": "stdout",
     "output_type": "stream",
     "text": [
      "loop started\n",
      "Any number 5\n",
      "0\n",
      "8\n",
      "27\n",
      "64\n",
      "loop finished\n"
     ]
    }
   ],
   "source": [
    "print('loop started')\n",
    "\n",
    "cube_test = range(int(input(\"Any number \")))\n",
    "\n",
    "for i in cube_test:\n",
    "    if i == 1:\n",
    "        continue\n",
    "    i = i ** 3\n",
    "    print(i)\n",
    "    if i == 1000:\n",
    "        break\n",
    "    \n",
    "\n",
    "print('loop finished')"
   ]
  },
  {
   "cell_type": "markdown",
   "metadata": {},
   "source": [
    "## Exercise #2 <br>\n",
    "<p>Get first prime numbers up to 100</p>"
   ]
  },
  {
   "cell_type": "code",
   "execution_count": 242,
   "metadata": {},
   "outputs": [
    {
     "name": "stdout",
     "output_type": "stream",
     "text": [
      "3\n",
      "2\n",
      "4\n",
      "6\n",
      "10\n",
      "12\n",
      "16\n",
      "18\n",
      "22\n",
      "28\n",
      "30\n",
      "36\n",
      "40\n",
      "42\n",
      "46\n",
      "52\n",
      "58\n",
      "60\n",
      "66\n",
      "70\n",
      "72\n",
      "78\n",
      "82\n",
      "88\n",
      "96\n"
     ]
    }
   ],
   "source": [
    "# HINT::\n",
    "# An else after an if runs if the if didn’t\n",
    "# An else after a for runs if the for didn’t break\n",
    "#from range(2,101)\n",
    "\n",
    "for num in range(100):\n",
    "    if num > 1:\n",
    "            \n",
    "        for i in range(2, num):\n",
    "            if num % i == 0:\n",
    "                break\n",
    "        else:\n",
    "            print(i)\n",
    "            \n",
    "            "
   ]
  },
  {
   "cell_type": "markdown",
   "metadata": {},
   "source": [
    "# Exercise 3 <br>\n",
    "<p>Take in a users input for their age, if they are younger than 18 print kids, if they're 18 to 65 print adults, else print seniors</p>"
   ]
  },
  {
   "cell_type": "code",
   "execution_count": 189,
   "metadata": {},
   "outputs": [
    {
     "name": "stdout",
     "output_type": "stream",
     "text": [
      "What is your age?12\n",
      "kids\n"
     ]
    }
   ],
   "source": [
    "age = int(input('What is your age?'))\n",
    "\n",
    "if age < 18:\n",
    "    print('kids')\n",
    "elif age >= 18 and age <= 65:\n",
    "    print('Adults')\n",
    "else:\n",
    "    print('Seniors')\n",
    "    \n",
    "    "
   ]
  }
 ],
 "metadata": {
  "kernelspec": {
   "display_name": "Python 3 (ipykernel)",
   "language": "python",
   "name": "python3"
  },
  "language_info": {
   "codemirror_mode": {
    "name": "ipython",
    "version": 3
   },
   "file_extension": ".py",
   "mimetype": "text/x-python",
   "name": "python",
   "nbconvert_exporter": "python",
   "pygments_lexer": "ipython3",
   "version": "3.9.7"
  }
 },
 "nbformat": 4,
 "nbformat_minor": 2
}
